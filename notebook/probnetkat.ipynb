{
 "cells": [
  {
   "cell_type": "code",
   "execution_count": 5,
   "metadata": {},
   "outputs": [],
   "source": [
    ":e OverloadedStrings\n",
    ":e ExistentialQuantification\n",
    "\n",
    "import System.Random.MWC (createSystemRandom)\n",
    "import qualified Graphics.Vega.VegaLite as VL\n",
    "import IHaskell.Display.Hvega (vlShow)\n",
    "import Data.Aeson (ToJSON(toJSON), Value)\n",
    "import Data.Aeson (encode)\n",
    "import qualified Data.ByteString.Lazy.Char8 as BL\n",
    "import Data.Text (Text, pack)\n",
    "\n",
    "import Control.Monad (liftM2, replicateM, forM, forM_)\n",
    "import Control.Monad.IO.Class (liftIO)\n",
    "import Data.List (sort)\n",
    "import Control.Monad.Bayes.Class\n",
    "import Control.Monad.Bayes.Sampler\n",
    "import Control.Monad.Bayes.Traced\n",
    "import Control.Monad.Bayes.Weighted\n",
    "import Control.Monad.Bayes.Inference.SMC as SMC\n",
    "import Control.Monad.Bayes.Inference.RMSMC as RMSMC\n",
    "import Control.Monad.Bayes.Sequential\n",
    "import Control.Monad.Bayes.Population\n",
    "import Control.Monad.Bayes.Traced.Static (Traced)\n",
    "import Control.Monad.Bayes.Inference.SMC\n",
    "\n",
    "import Control.Monad (when)\n",
    "import Control.Monad.Bayes.Class\n",
    "\n",
    "import Numeric.Log\n",
    "import Control.Monad.Bayes.Class\n",
    "\n",
    "import Data.List (partition)"
   ]
  },
  {
   "cell_type": "code",
   "execution_count": 6,
   "metadata": {},
   "outputs": [],
   "source": [
    "-- Type definitions\n",
    "data Field = Field { name :: String, value :: Int } deriving (Show)\n",
    "type Packet = [Field]\n",
    "type History = [Packet]\n",
    "\n",
    "data PPacket = PPacket { packet :: Packet, prob :: Float } deriving (Show)\n",
    "\n",
    "-- assign value to the head package of a history\n",
    "pAssH :: History -> Field -> History\n",
    "pAssH [] _ = []\n",
    "pAssH (x:xs) field = pAss x field:xs\n",
    "\n",
    "-- assign value to a specific field in a packet\n",
    "pAss :: Packet -> Field -> Packet\n",
    "pAss [] _ = []\n",
    "pAss (x:xs) f = if name x == name f then f:xs else x:pAss xs f\n",
    "\n",
    "pDupp :: History -> History\n",
    "pDupp [] = []\n",
    "pDupp (x:xs) = [x,x] ++ xs\n",
    "\n",
    "printHead :: History -> IO ()\n",
    "printHead [] = print \"Empty history\"\n",
    "printHead (x:xs) = print x\n"
   ]
  },
  {
   "cell_type": "code",
   "execution_count": 7,
   "metadata": {},
   "outputs": [
    {
     "data": {
      "text/plain": [
       "\"Empty history\"\n",
       "[Field {name = \"a\", value = 1},Field {name = \"b\", value = 2},Field {name = \"c\", value = 3}]\n",
       "[Field {name = \"a\", value = 10},Field {name = \"b\", value = 2},Field {name = \"c\", value = 3}]\n",
       "[Field {name = \"a\", value = 10},Field {name = \"b\", value = 11},Field {name = \"c\", value = 3}]\n",
       "[Field {name = \"a\", value = 10},Field {name = \"b\", value = 11},Field {name = \"c\", value = 12}]"
      ]
     },
     "metadata": {},
     "output_type": "display_data"
    }
   ],
   "source": [
    "test = do\n",
    "    let history = [ [Field \"a\" 1, Field \"b\" 2, Field \"c\" 3]\n",
    "                  , [Field \"a\" 4, Field \"b\" 5, Field \"c\" 6]\n",
    "                  , [Field \"a\" 7, Field \"b\" 8, Field \"c\" 9]\n",
    "                  ]\n",
    "    printHead []\n",
    "    printHead history\n",
    "    let history' = pDupp history\n",
    "    let history'' = pAssH history' (Field \"a\" 10)\n",
    "    printHead history''\n",
    "    let history''' = pAssH history'' (Field \"b\" 11)\n",
    "    printHead history'''\n",
    "    let history'''' = pAssH history''' (Field \"c\" 12)\n",
    "    printHead history''''\n",
    "    \n",
    "test"
   ]
  },
  {
   "cell_type": "markdown",
   "metadata": {},
   "source": [
    "Now we want to define a distribution on Packages I guess"
   ]
  },
  {
   "cell_type": "code",
   "execution_count": 8,
   "metadata": {},
   "outputs": [
    {
     "ename": "",
     "evalue": "",
     "header": "MessageHeader {mhIdentifiers = [\"226489c7-9c52-4d5a-905c-47ac38d504c0\"], mhParentHeader = Just (MessageHeader {mhIdentifiers = [\"226489c7-9c52-4d5a-905c-47ac38d504c0\"], mhParentHeader = Nothing, mhMetadata = Metadata (fromList [(\"recordTiming\",Bool False),(\"deletedCells\",Array []),(\"cellId\",String \"b3b87a27-cfe7-44d3-a249-424c53403ed3\")]), mhMessageId = UUID {uuidToString = \"89728cbb-decd-4e20-8845-07d1b4a76886\"}, mhSessionId = UUID {uuidToString = \"226489c7-9c52-4d5a-905c-47ac38d504c0\"}, mhUsername = \"\", mhMsgType = ExecuteRequestMessage, mhBuffers = []}), mhMetadata = Metadata (fromList []), mhMessageId = UUID {uuidToString = \"a88d3fb2-cc9c-415f-808d-960f7feb7cd7\"}, mhSessionId = UUID {uuidToString = \"226489c7-9c52-4d5a-905c-47ac38d504c0\"}, mhUsername = \"\", mhMsgType = ExecuteErrorMessage, mhBuffers = []}",
     "output_type": "error",
     "traceback": [
      "<interactive>:1:10: error:\n    • Expected kind ‘k0 -> Constraint’, but ‘MonadSample m’ has kind ‘Constraint’\n    • In the type signature: model :: MonadSample m prob => m Bool"
     ]
    }
   ],
   "source": [
    "model :: MonadSample m prob => m Bool\n",
    "model = do\n",
    "  rain <- bernoulli prob\n",
    "  sprinkler <-\n",
    "    bernoulli $\n",
    "    if rain\n",
    "      then 0.1\n",
    "      else 0.4\n",
    "  let wetProb =\n",
    "        case (rain, sprinkler) of\n",
    "          (True,  True)  -> 0.98\n",
    "          (True,  False) -> 0.80\n",
    "          (False, True)  -> 0.90\n",
    "          (False, False) -> 0.00\n",
    "  score wetProb\n",
    "  return rain"
   ]
  },
  {
   "cell_type": "code",
   "execution_count": null,
   "metadata": {},
   "outputs": [],
   "source": []
  },
  {
   "cell_type": "code",
   "execution_count": null,
   "metadata": {},
   "outputs": [],
   "source": []
  }
 ],
 "metadata": {
  "kernelspec": {
   "display_name": "Haskell - monad-bayes",
   "language": "haskell",
   "name": "ihaskell_monad-bayes"
  },
  "language_info": {
   "codemirror_mode": "Haskell",
   "file_extension": ".hs",
   "mimetype": "text/x-haskell",
   "name": "haskell",
   "pygments_lexer": "Haskell",
   "version": "8.6.5"
  }
 },
 "nbformat": 4,
 "nbformat_minor": 4
}
